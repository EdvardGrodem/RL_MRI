{
 "cells": [
  {
   "cell_type": "code",
   "execution_count": 2,
   "metadata": {},
   "outputs": [],
   "source": [
    "import numpy as np\n",
    "import matplotlib.pyplot as plt"
   ]
  },
  {
   "cell_type": "code",
   "execution_count": 3,
   "metadata": {},
   "outputs": [],
   "source": [
    "def circle_sample(N, M):\n",
    "    canvas = np.zeros((N, N))\n",
    "\n",
    "    dir = np.array([[0, 1], [1, 0], [0, -1], [-1, 0]])\n",
    "    steps_to_edge = 1\n",
    "    steps_count = -1\n",
    "    dir_index = 0\n",
    "\n",
    "    pos = np.array([N // 2-1, N // 2-2])\n",
    "\n",
    "    for i in range(M):\n",
    "        if steps_count == steps_to_edge:\n",
    "            steps_count = 0\n",
    "            dir_index = (dir_index + 1) % 4\n",
    "            if dir_index % 2 == 0:\n",
    "                steps_to_edge += 1\n",
    "        pos += dir[dir_index]\n",
    "        canvas[pos[0], pos[1]] = 1\n",
    "        steps_count += 1\n",
    "    return canvas"
   ]
  },
  {
   "cell_type": "code",
   "execution_count": 4,
   "metadata": {},
   "outputs": [
    {
     "data": {
      "text/plain": [
       "(-0.5, 27.5, 27.5, -0.5)"
      ]
     },
     "execution_count": 4,
     "metadata": {},
     "output_type": "execute_result"
    },
    {
     "data": {
      "image/png": "[encoded data removed]",
      "text/plain": [
       "<Figure size 600x300 with 2 Axes>"
      ]
     },
     "metadata": {},
     "output_type": "display_data"
    }
   ],
   "source": [
    "# This script is used to generate the circle sampling pattern\n",
    "N = 28\n",
    "canvas = np.zeros((N, N))\n",
    "\n",
    "dir = np.array([[0, 1], [1, 0], [0, -1], [-1, 0]])\n",
    "steps_to_edge = 1\n",
    "steps_count = -1\n",
    "dir_index = 0\n",
    "\n",
    "pos = np.array([N // 2-1, N // 2-2])\n",
    "\n",
    "M =28*28\n",
    "\n",
    "fig, axs = plt.subplots(1, 2, figsize=(6, 3))\n",
    "\n",
    "for i in range(M):\n",
    "    if steps_count == steps_to_edge:\n",
    "        steps_count = 0\n",
    "        dir_index = (dir_index + 1) % 4\n",
    "        if dir_index % 2 == 0:\n",
    "            steps_to_edge += 1\n",
    "    pos += dir[dir_index]\n",
    "    canvas[pos[0], pos[1]] = 1 - i/(i+28*28)\n",
    "    steps_count += 1\n",
    "\n",
    "axs[0].imshow(canvas, cmap='gray')\n",
    "axs[0].set_title('Circle Sampling Strategy')\n",
    "axs[0].axis('off')\n",
    "\n",
    "\n",
    "# Random sampling pattern\n",
    "M = 28*4\n",
    "rand_nums = np.random.rand(28*28)\n",
    "rand_nums_argsort = np.argsort(rand_nums)\n",
    "canvas = np.zeros((N, N))\n",
    "for i in range(M):\n",
    "    pos = np.unravel_index(rand_nums_argsort[i], (N, N))\n",
    "    canvas[pos[0], pos[1]] = 1 - i/(i+M)\n",
    "\n",
    "\n",
    "axs[1].imshow(canvas, cmap='gray')\n",
    "axs[1].set_title('Random Sampling Strategy')\n",
    "axs[1].axis('off')"
   ]
  },
  {
   "cell_type": "code",
   "execution_count": null,
   "metadata": {},
   "outputs": [],
   "source": []
  }
 ],
 "metadata": {
  "kernelspec": {
   "display_name": "gym_env",
   "language": "python",
   "name": "python3"
  },
  "language_info": {
   "codemirror_mode": {
    "name": "ipython",
    "version": 3
   },
   "file_extension": ".py",
   "mimetype": "text/x-python",
   "name": "python",
   "nbconvert_exporter": "python",
   "pygments_lexer": "ipython3",
   "version": "3.9.12"
  },
  "orig_nbformat": 4
 },
 "nbformat": 4,
 "nbformat_minor": 2
}
